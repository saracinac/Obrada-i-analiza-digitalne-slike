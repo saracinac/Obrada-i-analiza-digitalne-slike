{
 "cells": [
  {
   "cell_type": "markdown",
   "metadata": {},
   "source": [
    "# Coin Recognition Program\n",
    "\n",
    "I'm making a program for coin recognition using Python and OpenCV. The first step was installing the OpenCV library with the command:"
   ]
  },
  {
   "cell_type": "code",
   "execution_count": null,
   "metadata": {},
   "outputs": [],
   "source": [
    "pip install opencv -python"
   ]
  },
  {
   "cell_type": "markdown",
   "metadata": {},
   "source": [
    "After installing and setting up OpenCV, it was necessary to collect images of coins. The coins were photographed on a white background for easier extraction. The photographed images are saved in the 'obrada' folder where the Python programs will also be located. First, an explanation of the 'obrada1.py' file follows. Importing two essential libraries in Python for numerical computing and computer vision tasks:"
   ]
  },
  {
   "cell_type": "code",
   "execution_count": 3,
   "metadata": {},
   "outputs": [],
   "source": [
    "import numpy as np\n",
    "import cv2"
   ]
  },
  {
   "cell_type": "markdown",
   "metadata": {},
   "source": [
    "Importing image, resizing it and making a copy that will be used later:"
   ]
  },
  {
   "cell_type": "code",
   "execution_count": 4,
   "metadata": {},
   "outputs": [],
   "source": [
    "slika = cv2.imread(\"slika5.jpg\")\n",
    "slika = cv2.resize(slika, (640, 800))\n",
    "s_kopija = slika.copy()"
   ]
  },
  {
   "cell_type": "markdown",
   "metadata": {},
   "source": [
    "Next step is applying a Gaussian blur to an image, that is reducing image noise and detail through image smoothing. The parameters include the input image 'slika5.jpg', the size of the Gaussian kernel (7, 7) for blurring, and the standard deviation 3, determining the extent of blur applied in both the X and Y directions:"
   ]
  },
  {
   "cell_type": "code",
   "execution_count": 5,
   "metadata": {},
   "outputs": [],
   "source": [
    "slika = cv2.GaussianBlur(slika, (7, 7), 3)"
   ]
  },
  {
   "cell_type": "markdown",
   "metadata": {},
   "source": [
    "Following code converts the image from the BGR color space to grayscale. Then, it applies a binary thresholding operation to the grayscale image, setting pixel values below 138 to 0 and above 138 to 255, creating a binary image where objects of interest are highlighted (The parameters need to be adjusted for each specific image):"
   ]
  },
  {
   "cell_type": "code",
   "execution_count": null,
   "metadata": {},
   "outputs": [],
   "source": [
    "gray = cv2.cvtColor(slika, cv2.COLOR_BGR2GRAY)\n",
    "ret, thresh = cv2.threshold(gray, 138, 255, cv2.THRESH_BINARY)"
   ]
  },
  {
   "cell_type": "markdown",
   "metadata": {},
   "source": [
    "This code segment uses the cv2.findContours() function to identify contours in the thresholded binary image thresh, employing a hierarchical retrieval mode and retaining all contour points without approximation. It then iterates over each contour found, calculates its area using cv2.contourArea(), and stores the contour index and its corresponding area in a dictionary named area:"
   ]
  },
  {
   "cell_type": "code",
   "execution_count": null,
   "metadata": {},
   "outputs": [],
   "source": [
    "contours, _ = cv2.findContours(thresh, cv2.RETR_TREE, cv2.CHAIN_APPROX_NONE)\n",
    "area = {}\n",
    "for i in range(len(contours)):\n",
    "    cnt = contours[i]\n",
    "    ar = cv2.contourArea(cnt)\n",
    "    area[i] = ar"
   ]
  },
  {
   "cell_type": "markdown",
   "metadata": {},
   "source": [
    "This code sorts the dictionary area based on contour areas in descending order, converting it into a numpy array rez. Then, it counts the number of contours with areas greater than 500 pixels by identifying indices where the second column of rez (contour areas) exceeds 500 using np.argwhere(), and computing its shape to determine the count:"
   ]
  },
  {
   "cell_type": "code",
   "execution_count": null,
   "metadata": {},
   "outputs": [],
   "source": [
    "srt = sorted(area.items(), key=lambda x: x[1], reverse=True)\n",
    "rez = np.array(srt).astype(\"int\")\n",
    "num = np.argwhere(rez[:, 1] > 500).shape[0]"
   ]
  },
  {
   "cell_type": "markdown",
   "metadata": {},
   "source": [
    "This code iterates over the sorted contours, drawing each contour on a copy of the image s_kopija and finding the minimum enclosing circle around each contour using cv2.minEnclosingCircle(). It calculates the diameter of each coin by doubling the radius, appends the diameter and contour index to the list diameters, providing a list of tuples containing the diameter and contour index for each identified coin:"
   ]
  },
  {
   "cell_type": "code",
   "execution_count": null,
   "metadata": {},
   "outputs": [],
   "source": [
    "diameters = []\n",
    "for i in range(1, num):\n",
    "    s_kopija = cv2.drawContours(s_kopija, contours, rez[i, 0], (0, 255, 0), 3)\n",
    "    (x, y), radius = cv2.minEnclosingCircle(contours[rez[i, 0]])\n",
    "    diameter = radius * 2  \n",
    "    diameters.append((diameter, rez[i, 0]))"
   ]
  },
  {
   "cell_type": "markdown",
   "metadata": {},
   "source": [
    "This code segment sorts the list of coin diameters in descending order based on their diameter values. It then defines the values of the coins based on the sorted diameters, assuming there are exactly three types of coins with values of 5.00, 1.00, and 0.05, respectively. Finally, it initializes a variable total_value to calculate the total value of the coins (assuming we have exactly 3 types of coins):"
   ]
  },
  {
   "cell_type": "code",
   "execution_count": null,
   "metadata": {},
   "outputs": [],
   "source": [
    "diameters.sort(reverse=True, key=lambda x: x[0])\n",
    "coin_values = [5.00, 1.00, 0.05]  \n",
    "total_value = 0"
   ]
  },
  {
   "cell_type": "markdown",
   "metadata": {},
   "source": [
    "This code iterates over the sorted list of coin diameters and their corresponding contour indices. It assigns a value to each coin based on its position in the sorted list, cycling through the predefined coin values if more coins are detected than predefined values. The total value of the coins is calculated incrementally. It prints the diameter and assigned value for each recognized coin and annotates the image with the value of the coin using OpenCV's cv2.putText() function:"
   ]
  },
  {
   "cell_type": "code",
   "execution_count": null,
   "metadata": {},
   "outputs": [],
   "source": [
    "for idx, (diameter, contour_idx) in enumerate(diameters):\n",
    "    coin_value = coin_values[idx % len(coin_values)]  \n",
    "    total_value += coin_value\n",
    "    \n",
    "    \n",
    "    print(f\"Recognized coin {idx+1}: Diameter = {diameter:.2f} pixels, Value = {coin_value} KM\")\n",
    "    \n",
    "    \n",
    "    (x, y), radius = cv2.minEnclosingCircle(contours[contour_idx])\n",
    "    center = (int(x), int(y))\n",
    "    cv2.putText(s_kopija, f\"{coin_value} KM\", center, cv2.FONT_HERSHEY_SIMPLEX, 0.5, (255, 0, 0), 2)"
   ]
  },
  {
   "cell_type": "markdown",
   "metadata": {},
   "source": [
    "Printing total value and showing final results:"
   ]
  },
  {
   "cell_type": "code",
   "execution_count": null,
   "metadata": {},
   "outputs": [],
   "source": [
    "print(\"Total value:\", total_value, \"KM\")\n",
    "\n",
    "cv2.imshow(\"rezultat\", s_kopija)\n",
    "cv2.waitKey(0)\n",
    "cv2.destroyAllWindows()"
   ]
  },
  {
   "cell_type": "markdown",
   "metadata": {},
   "source": [
    "For the file obrada.py, the same principle was used, only there are multiple types of different coins in the image. In this example, we can notice how the parameters had to be adjusted:"
   ]
  },
  {
   "cell_type": "code",
   "execution_count": null,
   "metadata": {},
   "outputs": [],
   "source": [
    "ret, thresh = cv2.threshold(gray, 142, 255, cv2.THRESH_BINARY)"
   ]
  },
  {
   "cell_type": "markdown",
   "metadata": {},
   "source": [
    "For file 'obrada2.py': This code snippet iterates through the contours of coins detected in the image. For each contour, it calculates the diameter based on the minimum enclosing circle. Depending on the diameter range, it assigns a corresponding coin value. Contours with recognized coin values are grouped together based on their assigned values in the coin_groups dictionary:"
   ]
  },
  {
   "cell_type": "code",
   "execution_count": null,
   "metadata": {},
   "outputs": [],
   "source": [
    "coin_groups = {}\n",
    "\n",
    "for contour in contours:\n",
    "    (x, y), radius = cv2.minEnclosingCircle(contour)\n",
    "    diameter = radius * 2  \n",
    "\n",
    "    if 75 <= diameter <= 76:\n",
    "        coin_value = 0.05\n",
    "    elif 88 <= diameter <= 89:\n",
    "        coin_value = 0.1\n",
    "    elif 90 <= diameter <= 91:\n",
    "        coin_value = 0.2\n",
    "    elif 95 <= diameter <= 97.8:\n",
    "        coin_value = 1\n",
    "    elif 98 <= diameter <= 99:\n",
    "        coin_value = 0.5\n",
    "    elif 100 <= diameter <=120:\n",
    "        coin_value = 5\n",
    "    else:\n",
    "        coin_value = None\n",
    "\n",
    "    if coin_value is not None:\n",
    "        coin_groups.setdefault(coin_value, []).append(contour)"
   ]
  },
  {
   "cell_type": "markdown",
   "metadata": {},
   "source": [
    "The coin_values dictionary maps coin values to their corresponding denominations in the currency of KM (Konvertibilna Marka). Each key represents a coin value (in KM), while the corresponding value is a string indicating the denomination of the coin:"
   ]
  },
  {
   "cell_type": "code",
   "execution_count": null,
   "metadata": {},
   "outputs": [],
   "source": [
    "coin_values = {\n",
    "    5.00: \"5 KM\",\n",
    "    1.00: \"1 KM\",\n",
    "    0.50: \"0.50 KM\",\n",
    "    0.20: \"0.20 KM\",\n",
    "    0.10: \"0.10 KM\",\n",
    "    0.05: \"0.05 KM\"\n",
    "}"
   ]
  },
  {
   "cell_type": "markdown",
   "metadata": {},
   "source": [
    "The grouped_coins dictionary organizes detected coins based on their values. It iterates over each coin value in the coin_groups dictionary and assigns the corresponding denomination from the coin_values dictionary. The contours of coins belonging to each denomination are then grouped together under their respective denomination in the grouped_coins dictionary:"
   ]
  },
  {
   "cell_type": "code",
   "execution_count": null,
   "metadata": {},
   "outputs": [],
   "source": [
    "grouped_coins = {}\n",
    "for coin_value, group in coin_groups.items():\n",
    "    grouped_coins.setdefault(coin_values[coin_value], []).extend(group)"
   ]
  },
  {
   "cell_type": "markdown",
   "metadata": {},
   "source": [
    "This code segment iterates over the grouped_coins dictionary, printing the denomination group and the count of coins in each group. Then, it calculates the total value of all the coins detected in KM (Konvertibilna Marka) by summing up the product of each coin value and the count of coins in that value group. Finally, it prints the total value in KM:"
   ]
  },
  {
   "cell_type": "code",
   "execution_count": null,
   "metadata": {},
   "outputs": [],
   "source": [
    "for group, coins in grouped_coins.items():\n",
    "    print(f\"Group: {group}, Count: {len(coins)}\")\n",
    "\n",
    "\n",
    "total_value = sum(coin_value * len(coins) for coin_value, coins in coin_groups.items())\n",
    "print(\"Total value in KM:\", total_value)"
   ]
  },
  {
   "cell_type": "markdown",
   "metadata": {},
   "source": [
    "This code iterates over the items in the grouped_coins dictionary. For each group of coins, it generates a random color using NumPy and draws contours of the coins onto the image s_kopija using OpenCV's cv2.drawContours() function. Each group of coins is drawn with contours of the same color to visually distinguish them on the image:"
   ]
  },
  {
   "cell_type": "code",
   "execution_count": null,
   "metadata": {},
   "outputs": [],
   "source": [
    "for group, coins in grouped_coins.items():\n",
    "    color = np.random.randint(0, 255, size=3).tolist() \n",
    "    for contour in coins:\n",
    "        s_kopija = cv2.drawContours(s_kopija, [contour], -1, color, 3)"
   ]
  }
 ],
 "metadata": {
  "kernelspec": {
   "display_name": "Python 3",
   "language": "python",
   "name": "python3"
  },
  "language_info": {
   "codemirror_mode": {
    "name": "ipython",
    "version": 3
   },
   "file_extension": ".py",
   "mimetype": "text/x-python",
   "name": "python",
   "nbconvert_exporter": "python",
   "pygments_lexer": "ipython3",
   "version": "3.11.2"
  }
 },
 "nbformat": 4,
 "nbformat_minor": 2
}
