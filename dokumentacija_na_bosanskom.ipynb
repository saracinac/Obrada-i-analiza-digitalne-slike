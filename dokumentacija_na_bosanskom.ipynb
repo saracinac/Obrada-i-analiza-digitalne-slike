{
 "cells": [
  {
   "cell_type": "markdown",
   "metadata": {},
   "source": [
    "# Program za prepoznavanje novčića\n",
    "\n",
    "Pravim program za prepoznavanje novčića koristeći Python i OpenCV. Prvi korak je bio instalacija OpenCV biblioteke pomoću komande: \n",
    "\n",
    "pip install opencv -python"
   ]
  },
  {
   "cell_type": "markdown",
   "metadata": {},
   "source": [
    "Nakon instalacije i postavljanja OpenCV-a, bilo je potrebno prikupiti slike novčića. Novčići su fotografisani na bijeloj pozadini radi lakšeg izdvajanja. Fotografisane slike su sačuvane u folderu 'obrada' gdje će se također nalaziti Python programi. Prvo slijedi objašnjenje za fajl 'obrada1.py'. Uvozimo dvije osnovne biblioteke u Pythonu za numeričko računanje i zadatke računarskog vida:"
   ]
  },
  {
   "cell_type": "code",
   "execution_count": null,
   "metadata": {},
   "outputs": [],
   "source": [
    "import numpy as np\n",
    "import cv2"
   ]
  },
  {
   "cell_type": "markdown",
   "metadata": {},
   "source": [
    "Učitavanje slike, promjena veličine i pravljenje kopije koja će se koristiti kasnije:"
   ]
  },
  {
   "cell_type": "code",
   "execution_count": null,
   "metadata": {},
   "outputs": [],
   "source": [
    "slika = cv2.imread(\"slika5.jpg\")\n",
    "slika = cv2.resize(slika, (640, 800))\n",
    "s_kopija = slika.copy()"
   ]
  },
  {
   "cell_type": "markdown",
   "metadata": {},
   "source": [
    "Sljedeći korak je primjena Gaussovog zamućenja na slici, što smanjuje šum i detalje slike kroz zaglađivanje slike. Parametri uključuju ulaznu sliku 'slika5.jpg', veličinu Gaussovog kernela (7, 7) za zamućenje, i standardnu devijaciju 3, koja određuje stupanj zamućenja primijenjenog u X i Y smjerovima:"
   ]
  },
  {
   "cell_type": "code",
   "execution_count": null,
   "metadata": {},
   "outputs": [],
   "source": [
    "slika = cv2.GaussianBlur(slika, (7, 7), 3)"
   ]
  },
  {
   "cell_type": "markdown",
   "metadata": {},
   "source": [
    "Slijedeći kod konvertuje sliku iz BGR prostora boja u nijanse sive. Zatim, primjenjuje binarno pragiranje na sliku u nijansama sive, postavljajući vrijednosti piksela ispod 138 na 0 i iznad 138 na 255, stvarajući binarnu sliku gdje su objekti od interesa istaknuti (Parametri se moraju prilagoditi za svaku specifičnu sliku):"
   ]
  },
  {
   "cell_type": "code",
   "execution_count": null,
   "metadata": {},
   "outputs": [],
   "source": [
    "gray = cv2.cvtColor(slika, cv2.COLOR_BGR2GRAY)\n",
    "ret, thresh = cv2.threshold(gray, 138, 255, cv2.THRESH_BINARY)"
   ]
  },
  {
   "cell_type": "markdown",
   "metadata": {},
   "source": [
    "Ovaj segment koda koristi funkciju cv2.findContours() za identifikaciju kontura u binarnoj slici s pragom thresh, koristeći hijerarhijski režim pretraživanja i zadržavajući sve tačke konture bez aproksimacije. Zatim iterira kroz svaku pronađenu konturu, izračunava njenu površinu koristeći cv2.contourArea(), i pohranjuje indeks konture i njenu odgovarajuću površinu u rječniku nazvanom area:"
   ]
  },
  {
   "cell_type": "code",
   "execution_count": null,
   "metadata": {},
   "outputs": [],
   "source": [
    "contours, _ = cv2.findContours(thresh, cv2.RETR_TREE, cv2.CHAIN_APPROX_NONE)\n",
    "area = {}\n",
    "for i in range(len(contours)):\n",
    "    cnt = contours[i]\n",
    "    ar = cv2.contourArea(cnt)\n",
    "    area[i] = ar"
   ]
  },
  {
   "cell_type": "markdown",
   "metadata": {},
   "source": [
    "Ovaj kod sortira rječnik area na osnovu površina kontura u silaznom redoslijedu, pretvarajući ga u numpy niz rez. Zatim, broji broj kontura čije su površine veće od 500 piksela identifikujući indekse gdje druga kolona rez (površine kontura) prelazi 500 koristeći np.argwhere(), i računajući njegov oblik kako bi odredio broj:"
   ]
  },
  {
   "cell_type": "code",
   "execution_count": null,
   "metadata": {},
   "outputs": [],
   "source": [
    "srt = sorted(area.items(), key=lambda x: x[1], reverse=True)\n",
    "rez = np.array(srt).astype(\"int\")\n",
    "num = np.argwhere(rez[:, 1] > 500).shape[0]"
   ]
  },
  {
   "cell_type": "markdown",
   "metadata": {},
   "source": [
    "Ovaj kod iterira kroz sortirane konture, crtajući svaku konturu na kopiji slike s_kopija i pronalazeći minimalni ograđujući krug oko svake konture koristeći cv2.minEnclosingCircle(). Izračunava prečnik svakog novčića množenjem radijusa sa 2, dodaje prečnik i indeks konture na listu diameters, pružajući listu tuplova koji sadrže prečnik i indeks konture za svaki identifikovani novčić:"
   ]
  },
  {
   "cell_type": "code",
   "execution_count": null,
   "metadata": {},
   "outputs": [],
   "source": [
    "diameters = []\n",
    "for i in range(1, num):\n",
    "    s_kopija = cv2.drawContours(s_kopija, contours, rez[i, 0], (0, 255, 0), 3)\n",
    "    (x, y), radius = cv2.minEnclosingCircle(contours[rez[i, 0]])\n",
    "    diameter = radius * 2  \n",
    "    diameters.append((diameter, rez[i, 0]))"
   ]
  },
  {
   "cell_type": "markdown",
   "metadata": {},
   "source": [
    "Ovaj segment koda sortira listu prečnika novčića u silaznom redoslijedu na osnovu njihovih vrijednosti prečnika. Zatim definiše vrijednosti novčića na osnovu sortiranih prečnika, pretpostavljajući da postoji tačno tri vrste novčića sa vrijednostima od 5.00, 1.00 i 0.05, redom. Na kraju, inicijalizira varijablu total_value za računanje ukupne vrijednosti novčića (pretpostavljajući da imamo tačno 3 vrste novčića):"
   ]
  },
  {
   "cell_type": "code",
   "execution_count": null,
   "metadata": {},
   "outputs": [],
   "source": [
    "diameters.sort(reverse=True, key=lambda x: x[0])\n",
    "coin_values = [5.00, 1.00, 0.05]  \n",
    "total_value = 0"
   ]
  },
  {
   "cell_type": "markdown",
   "metadata": {},
   "source": [
    "\n",
    "\n",
    "Ovaj kod iterira kroz sortiranu listu prečnika kovanica i njihovih odgovarajućih indeksa kontura. On dodjeljuje vrijednost svakoj kovanici na osnovu njene pozicije u sortiranoj listi, ciklično prolazeći kroz unaprijed definirane vrijednosti kovanica ako se otkrije više kovanica nego što je definirano vrijednosti. Ukupna vrijednost kovanica se izračunava inkrementalno. On ispisuje prečnik i dodijeljenu vrijednost za svaku prepoznatu kovanicu i anotira sliku vrijednošću kovanice koristeći OpenCV-ovu funkciju cv2.putText():\n"
   ]
  },
  {
   "cell_type": "code",
   "execution_count": null,
   "metadata": {},
   "outputs": [],
   "source": [
    "for idx, (diameter, contour_idx) in enumerate(diameters):\n",
    "    coin_value = coin_values[idx % len(coin_values)]  \n",
    "    total_value += coin_value\n",
    "    \n",
    "    \n",
    "    print(f\"Recognized coin {idx+1}: Diameter = {diameter:.2f} pixels, Value = {coin_value} KM\")\n",
    "    \n",
    "    \n",
    "    (x, y), radius = cv2.minEnclosingCircle(contours[contour_idx])\n",
    "    center = (int(x), int(y))\n",
    "    cv2.putText(s_kopija, f\"{coin_value} KM\", center, cv2.FONT_HERSHEY_SIMPLEX, 0.5, (255, 0, 0), 2)"
   ]
  },
  {
   "cell_type": "markdown",
   "metadata": {},
   "source": [
    "Ispis ukupne vrijednosti i prikaz konačnih rezultata:\n"
   ]
  },
  {
   "cell_type": "code",
   "execution_count": null,
   "metadata": {},
   "outputs": [],
   "source": [
    "print(\"Total value:\", total_value, \"KM\")\n",
    "\n",
    "cv2.imshow(\"rezultat\", s_kopija)\n",
    "cv2.waitKey(0)\n",
    "cv2.destroyAllWindows()"
   ]
  },
  {
   "cell_type": "markdown",
   "metadata": {},
   "source": [
    "Za datoteku obrada.py, korišten je isti princip, samo što na slici ima više vrsta različitih kovanica. U ovom primjeru možemo primijetiti kako su parametri morali biti prilagođeni:"
   ]
  },
  {
   "cell_type": "code",
   "execution_count": null,
   "metadata": {},
   "outputs": [],
   "source": [
    "ret, thresh = cv2.threshold(gray, 142, 255, cv2.THRESH_BINARY)"
   ]
  },
  {
   "cell_type": "markdown",
   "metadata": {},
   "source": [
    "Za datoteku 'obrada2.py': Ovaj dio koda iterira kroz konture kovanica detektiranih na slici. Za svaku konturu izračunava prečnik na osnovu minimalnog obuhvatnog kruga. U zavisnosti od raspona prečnika, dodjeljuje odgovarajuću vrijednost kovanice. Konture s prepoznatim vrijednostima kovanica grupiraju se zajedno na osnovu dodijeljenih vrijednosti u dictionaryju coin_groups:"
   ]
  },
  {
   "cell_type": "code",
   "execution_count": null,
   "metadata": {},
   "outputs": [],
   "source": [
    "coin_groups = {}\n",
    "\n",
    "for contour in contours:\n",
    "    (x, y), radius = cv2.minEnclosingCircle(contour)\n",
    "    diameter = radius * 2  \n",
    "\n",
    "    if 75 <= diameter <= 76:\n",
    "        coin_value = 0.05\n",
    "    elif 88 <= diameter <= 89:\n",
    "        coin_value = 0.1\n",
    "    elif 90 <= diameter <= 91:\n",
    "        coin_value = 0.2\n",
    "    elif 95 <= diameter <= 97.8:\n",
    "        coin_value = 1\n",
    "    elif 98 <= diameter <= 99:\n",
    "        coin_value = 0.5\n",
    "    elif 100 <= diameter <=120:\n",
    "        coin_value = 5\n",
    "    else:\n",
    "        coin_value = None\n",
    "\n",
    "    if coin_value is not None:\n",
    "        coin_groups.setdefault(coin_value, []).append(contour)"
   ]
  },
  {
   "cell_type": "markdown",
   "metadata": {},
   "source": [
    "Rječnik coin_values mapira vrijednosti kovanica na njihove odgovarajuće apoene u valuti KM (Konvertibilna Marka). Svaki ključ predstavlja vrijednost kovanice (u KM), dok odgovarajuća vrijednost predstavlja string koji označava apoen kovanice:"
   ]
  },
  {
   "cell_type": "code",
   "execution_count": null,
   "metadata": {},
   "outputs": [],
   "source": [
    "coin_values = {\n",
    "    5.00: \"5 KM\",\n",
    "    1.00: \"1 KM\",\n",
    "    0.50: \"0.50 KM\",\n",
    "    0.20: \"0.20 KM\",\n",
    "    0.10: \"0.10 KM\",\n",
    "    0.05: \"0.05 KM\"\n",
    "}"
   ]
  },
  {
   "cell_type": "markdown",
   "metadata": {},
   "source": [
    "Rječnik grouped_coins organizira detektirane kovanice na osnovu njihovih vrijednosti. On iterira kroz svaku vrijednost kovanice u rječniku coin_groups i dodjeljuje odgovarajući apoen iz rječnika coin_values. Konture kovanica koje pripadaju svakom apoenu zatim se grupiraju zajedno pod njihovim odgovarajućim apoenom u rječniku grouped_coins:"
   ]
  },
  {
   "cell_type": "code",
   "execution_count": null,
   "metadata": {},
   "outputs": [],
   "source": [
    "grouped_coins = {}\n",
    "for coin_value, group in coin_groups.items():\n",
    "    grouped_coins.setdefault(coin_values[coin_value], []).extend(group)"
   ]
  },
  {
   "cell_type": "markdown",
   "metadata": {},
   "source": [
    "Ovaj dio koda iterira kroz rječnik grouped_coins, ispisujući grupu apoena i broj kovanica u svakoj grupi. Zatim izračunava ukupnu vrijednost svih detektiranih kovanica u KM (Konvertibilna Marka) zbrajanjem proizvoda svake vrijednosti kovanice i broja kovanica u toj grupi vrijednosti. Na kraju, ispisuje ukupnu vrijednost u KM:"
   ]
  },
  {
   "cell_type": "code",
   "execution_count": null,
   "metadata": {},
   "outputs": [],
   "source": [
    "for group, coins in grouped_coins.items():\n",
    "    print(f\"Group: {group}, Count: {len(coins)}\")\n",
    "\n",
    "\n",
    "total_value = sum(coin_value * len(coins) for coin_value, coins in coin_groups.items())\n",
    "print(\"Total value in KM:\", total_value)"
   ]
  },
  {
   "cell_type": "markdown",
   "metadata": {},
   "source": [
    "Ovaj kod iterira kroz stavke u rječniku grouped_coins. Za svaku grupu kovanica, generira slučajnu boju koristeći NumPy i crta konture kovanica na slici s_kopija koristeći OpenCV-ovu funkciju cv2.drawContours(). Svaka grupa kovanica se crta s konturama iste boje kako bi se vizualno razlikovale na slici:"
   ]
  },
  {
   "cell_type": "code",
   "execution_count": null,
   "metadata": {},
   "outputs": [],
   "source": [
    "for group, coins in grouped_coins.items():\n",
    "    color = np.random.randint(0, 255, size=3).tolist() \n",
    "    for contour in coins:\n",
    "        s_kopija = cv2.drawContours(s_kopija, [contour], -1, color, 3)"
   ]
  }
 ],
 "metadata": {
  "kernelspec": {
   "display_name": "Python 3",
   "language": "python",
   "name": "python3"
  },
  "language_info": {
   "name": "python",
   "version": "3.11.2"
  }
 },
 "nbformat": 4,
 "nbformat_minor": 2
}
